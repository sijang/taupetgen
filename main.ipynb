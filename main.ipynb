{
 "cells": [
  {
   "cell_type": "code",
   "execution_count": null,
   "id": "a2f055f9-9729-441c-ae42-a75aadd158d9",
   "metadata": {},
   "outputs": [
    {
     "name": "stdout",
     "output_type": "stream",
     "text": [
      "Using device: cuda\n"
     ]
    },
    {
     "data": {
      "application/vnd.jupyter.widget-view+json": {
       "model_id": "e272ca2d35d64e5b81b8dbdd8590344d",
       "version_major": 2,
       "version_minor": 0
      },
      "text/plain": [
       "Downloading model_index.json:   0%|          | 0.00/584 [00:00<?, ?B/s]"
      ]
     },
     "metadata": {},
     "output_type": "display_data"
    },
    {
     "data": {
      "application/vnd.jupyter.widget-view+json": {
       "model_id": "47b679e60c3d4b06b890ac645f982f43",
       "version_major": 2,
       "version_minor": 0
      },
      "text/plain": [
       "Fetching 15 files:   0%|          | 0/15 [00:00<?, ?it/s]"
      ]
     },
     "metadata": {},
     "output_type": "display_data"
    },
    {
     "data": {
      "application/vnd.jupyter.widget-view+json": {
       "model_id": "5271cb6a35a84dec897b37b7c4f3fcb6",
       "version_major": 2,
       "version_minor": 0
      },
      "text/plain": [
       "Downloading (…)rocessor_config.json:   0%|          | 0.00/520 [00:00<?, ?B/s]"
      ]
     },
     "metadata": {},
     "output_type": "display_data"
    },
    {
     "data": {
      "application/vnd.jupyter.widget-view+json": {
       "model_id": "7337094e76194c77ad6eb084029e0e7d",
       "version_major": 2,
       "version_minor": 0
      },
      "text/plain": [
       "Downloading pytorch_model.bin:   0%|          | 0.00/1.22G [00:00<?, ?B/s]"
      ]
     },
     "metadata": {},
     "output_type": "display_data"
    },
    {
     "data": {
      "application/vnd.jupyter.widget-view+json": {
       "model_id": "822e284726564c0a993af9d3b7d85bbc",
       "version_major": 2,
       "version_minor": 0
      },
      "text/plain": [
       "Downloading pytorch_model.bin:   0%|          | 0.00/246M [00:00<?, ?B/s]"
      ]
     },
     "metadata": {},
     "output_type": "display_data"
    },
    {
     "data": {
      "application/vnd.jupyter.widget-view+json": {
       "model_id": "1fb7259095fa43c8a09c1863deba255a",
       "version_major": 2,
       "version_minor": 0
      },
      "text/plain": [
       "Downloading scheduler_config.json:   0%|          | 0.00/346 [00:00<?, ?B/s]"
      ]
     },
     "metadata": {},
     "output_type": "display_data"
    },
    {
     "data": {
      "application/vnd.jupyter.widget-view+json": {
       "model_id": "f25e0e84cbce4333aeeabcb410376e52",
       "version_major": 2,
       "version_minor": 0
      },
      "text/plain": [
       "Downloading config.json:   0%|          | 0.00/600 [00:00<?, ?B/s]"
      ]
     },
     "metadata": {},
     "output_type": "display_data"
    },
    {
     "data": {
      "application/vnd.jupyter.widget-view+json": {
       "model_id": "43846f40d1da4fc4a0cb8ad7feb10bf1",
       "version_major": 2,
       "version_minor": 0
      },
      "text/plain": [
       "Downloading merges.txt:   0%|          | 0.00/525k [00:00<?, ?B/s]"
      ]
     },
     "metadata": {},
     "output_type": "display_data"
    },
    {
     "data": {
      "application/vnd.jupyter.widget-view+json": {
       "model_id": "e904936e054f434ebec7ba57e1b2e430",
       "version_major": 2,
       "version_minor": 0
      },
      "text/plain": [
       "Downloading tokenizer_config.json:   0%|          | 0.00/755 [00:00<?, ?B/s]"
      ]
     },
     "metadata": {},
     "output_type": "display_data"
    },
    {
     "data": {
      "application/vnd.jupyter.widget-view+json": {
       "model_id": "31bf38ca3d5e42be8439a1e7e91fc277",
       "version_major": 2,
       "version_minor": 0
      },
      "text/plain": [
       "Downloading vocab.json:   0%|          | 0.00/1.06M [00:00<?, ?B/s]"
      ]
     },
     "metadata": {},
     "output_type": "display_data"
    },
    {
     "data": {
      "application/vnd.jupyter.widget-view+json": {
       "model_id": "f6633fe0d3cb415b97c41057e9628f1f",
       "version_major": 2,
       "version_minor": 0
      },
      "text/plain": [
       "Downloading (…)on_pytorch_model.bin:   0%|          | 0.00/167M [00:00<?, ?B/s]"
      ]
     },
     "metadata": {},
     "output_type": "display_data"
    },
    {
     "data": {
      "application/vnd.jupyter.widget-view+json": {
       "model_id": "6252645eb079499c98befef311e0bfd0",
       "version_major": 2,
       "version_minor": 0
      },
      "text/plain": [
       "Downloading (…)cial_tokens_map.json:   0%|          | 0.00/472 [00:00<?, ?B/s]"
      ]
     },
     "metadata": {},
     "output_type": "display_data"
    },
    {
     "data": {
      "application/vnd.jupyter.widget-view+json": {
       "model_id": "40463398f245475592c3a36b29f3bdf5",
       "version_major": 2,
       "version_minor": 0
      },
      "text/plain": [
       "Downloading config.json:   0%|          | 0.00/4.54k [00:00<?, ?B/s]"
      ]
     },
     "metadata": {},
     "output_type": "display_data"
    },
    {
     "data": {
      "application/vnd.jupyter.widget-view+json": {
       "model_id": "e7a82580975d4876b00f1c27b8cc74dd",
       "version_major": 2,
       "version_minor": 0
      },
      "text/plain": [
       "Downloading (…)on_pytorch_model.bin:   0%|          | 0.00/3.44G [00:00<?, ?B/s]"
      ]
     },
     "metadata": {},
     "output_type": "display_data"
    },
    {
     "data": {
      "application/vnd.jupyter.widget-view+json": {
       "model_id": "b53c873b4e064d9d9ce48064a64444cf",
       "version_major": 2,
       "version_minor": 0
      },
      "text/plain": [
       "Downloading config.json:   0%|          | 0.00/622 [00:00<?, ?B/s]"
      ]
     },
     "metadata": {},
     "output_type": "display_data"
    },
    {
     "data": {
      "application/vnd.jupyter.widget-view+json": {
       "model_id": "292c71f09794482f8a4033b9910baee0",
       "version_major": 2,
       "version_minor": 0
      },
      "text/plain": [
       "Downloading config.json:   0%|          | 0.00/1.29k [00:00<?, ?B/s]"
      ]
     },
     "metadata": {},
     "output_type": "display_data"
    },
    {
     "name": "stderr",
     "output_type": "stream",
     "text": [
      "/home1/sj799/miniconda3/envs/taupetgen/lib/python3.9/site-packages/transformers/models/clip/feature_extraction_clip.py:28: FutureWarning: The class CLIPFeatureExtractor is deprecated and will be removed in version 5 of Transformers. Please use CLIPImageProcessor instead.\n",
      "  warnings.warn(\n"
     ]
    }
   ],
   "source": [
    "# Cell 1: Imports and setup\n",
    "import torch\n",
    "from src.model import setup_model\n",
    "from src.inference import infer_later_mmse, infer_mr\n",
    "import matplotlib.pyplot as plt\n",
    "\n",
    "%matplotlib inline\n",
    "plt.rcParams['figure.figsize'] = (15, 6)\n",
    "\n",
    "# Cell 2: Model and parameters setup\n",
    "# Device setup\n",
    "device = torch.device('cuda' if torch.cuda.is_available() else 'cpu')\n",
    "print(f\"Using device: {device}\")\n",
    "\n",
    "# Initialize model and generator\n",
    "pipe, generator = setup_model(device=device)\n",
    "\n",
    "# Parameters\n",
    "image_guidance_scale = 1.5\n",
    "guidance_scale = 2\n",
    "num_inference_steps = 10\n",
    "fileName = \"datasets/mr_example1.png\"\n",
    "\n",
    "# Cell 3: Run inference\n",
    "# Generate images for later stage\n",
    "infer_later_mmse(pipe, fileName, image_guidance_scale, guidance_scale, num_inference_steps, generator)\n",
    "\n"
   ]
  },
  {
   "cell_type": "code",
   "execution_count": null,
   "id": "0360b032-87d6-478e-92dc-e6820f6f9304",
   "metadata": {},
   "outputs": [],
   "source": [
    "fileName = \"datasets/tau_later_example1.png\"\n",
    "\n",
    "# Cell 3: Run inference\n",
    "# Generate images for later stage\n",
    "infer_mr(pipe, fileName, image_guidance_scale, guidance_scale, num_inference_steps, generator)\n",
    "\n"
   ]
  },
  {
   "cell_type": "code",
   "execution_count": null,
   "id": "0ef4739d-cc73-44aa-a31d-dd6112b30c94",
   "metadata": {},
   "outputs": [
    {
     "name": "stdout",
     "output_type": "stream",
     "text": [
      "/home1/sj799/miniconda3/envs/taupetgen/lib/python3.9/site-packages/accelerate/accelerator.py:249: FutureWarning: `logging_dir` is deprecated and will be removed in version 0.18.0 of 🤗 Accelerate. Use `project_dir` instead.\n",
      "  warnings.warn(\n",
      "04/07/2025 15:05:24 - INFO - __main__ - Distributed environment: NO\n",
      "Num processes: 1\n",
      "Process index: 0\n",
      "Local process index: 0\n",
      "Device: cuda\n",
      "\n",
      "Mixed precision type: fp16\n",
      "\n",
      "{'sample_max_value', 'clip_sample_range', 'thresholding', 'prediction_type', 'variance_type', 'dynamic_thresholding_ratio'} was not found in config. Values will be initialized to default values.\n",
      "{'scaling_factor'} was not found in config. Values will be initialized to default values.\n",
      "{'time_embedding_act_fn', 'num_class_embeds', 'resnet_skip_time_act', 'class_embed_type', 'conv_out_kernel', 'dual_cross_attention', 'resnet_out_scale_factor', 'mid_block_type', 'time_embedding_type', 'upcast_attention', 'encoder_hid_dim', 'time_cond_proj_dim', 'projection_class_embeddings_input_dim', 'timestep_post_act', 'mid_block_only_cross_attention', 'resnet_time_scale_shift', 'conv_in_kernel', 'cross_attention_norm', 'class_embeddings_concat', 'only_cross_attention', 'use_linear_projection'} was not found in config. Values will be initialized to default values.\n",
      "04/07/2025 15:05:31 - INFO - __main__ - Initializing the InstructPix2Pix UNet from the pretrained UNet.\n",
      "04/07/2025 15:05:32 - WARNING - datasets.builder - Found cached dataset imagefolder (/home1/sj799/.cache/huggingface/datasets/imagefolder/default-aa20308cb9bd6574/0.0.0/37fbb85cc714a338bea574ac6c7d0b5be5aff46c1862c1989b20e0771199e93f)\n",
      "100%|████████████████████████████████████████████| 1/1 [00:00<00:00, 706.47it/s]\n",
      "column_names  ['image', 'edit_prompt', 'edited_image']\n",
      "dataset_columns  None\n",
      "image_column2  edited_image\n",
      "04/07/2025 15:05:35 - INFO - __main__ - ***** Running training *****\n",
      "04/07/2025 15:05:35 - INFO - __main__ -   Num examples = 2\n",
      "04/07/2025 15:05:35 - INFO - __main__ -   Num Epochs = 1000\n",
      "04/07/2025 15:05:35 - INFO - __main__ -   Instantaneous batch size per device = 4\n",
      "04/07/2025 15:05:35 - INFO - __main__ -   Total train batch size (w. parallel, distributed & accumulation) = 16\n",
      "04/07/2025 15:05:35 - INFO - __main__ -   Gradient Accumulation steps = 4\n",
      "04/07/2025 15:05:35 - INFO - __main__ -   Total optimization steps = 1000\n",
      "Steps:   0%|                                           | 0/1000 [00:00<?, ?it/s]/home1/sj799/miniconda3/envs/taupetgen/lib/python3.9/site-packages/diffusers/configuration_utils.py:134: FutureWarning: Accessing config attribute `num_train_timesteps` directly via 'DDPMScheduler' object attribute is deprecated. Please access 'num_train_timesteps' over 'DDPMScheduler's config object instead, e.g. 'scheduler.config.num_train_timesteps'.\n",
      "  deprecate(\"direct config name access\", \"1.0.0\", deprecation_message, standard_warn=False)\n",
      "Steps:   1%|     | 12/1000 [00:10<12:51,  1.28it/s, lr=0.0001, step_loss=0.0302]"
     ]
    }
   ],
   "source": [
    "\n",
    "!accelerate launch --mixed_precision=\"fp16\"  train_text_to_image-instruct.py \\\n",
    "  --pretrained_model_name_or_path=\"runwayml/stable-diffusion-v1-5\" \\\n",
    "  --train_data_dir=\"datasets\" \\\n",
    "  --use_ema \\\n",
    "  --resolution=512 \\\n",
    "  --train_batch_size=4 \\\n",
    "  --gradient_accumulation_steps=4 \\\n",
    "  --max_train_steps=1000\\\n",
    "  --learning_rate=1e-04 \\\n",
    "  --max_grad_norm=1 \\\n",
    "  --lr_scheduler=\"constant\" \\\n",
    "  --lr_warmup_steps=0 \\\n",
    "  --output_dir=\"train_save\""
   ]
  },
  {
   "cell_type": "code",
   "execution_count": null,
   "id": "5e87ccfd-0d73-4c8b-8a2f-54af8106c1ea",
   "metadata": {},
   "outputs": [],
   "source": []
  }
 ],
 "metadata": {
  "kernelspec": {
   "display_name": "Python 3 (ipykernel)",
   "language": "python",
   "name": "python3"
  },
  "language_info": {
   "codemirror_mode": {
    "name": "ipython",
    "version": 3
   },
   "file_extension": ".py",
   "mimetype": "text/x-python",
   "name": "python",
   "nbconvert_exporter": "python",
   "pygments_lexer": "ipython3",
   "version": "3.9.16"
  }
 },
 "nbformat": 4,
 "nbformat_minor": 5
}
